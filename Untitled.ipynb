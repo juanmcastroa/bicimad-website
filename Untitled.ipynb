{
 "cells": [
  {
   "cell_type": "code",
   "execution_count": 2,
   "id": "cce98838",
   "metadata": {},
   "outputs": [],
   "source": [
    "import pandas as pd\n",
    "\n",
    "def load_data():\n",
    "    \"\"\" Load the cleaned data with latitudes, longitudes & timestamps \"\"\"\n",
    "    df = pd.read_csv(\"three_years_weather.csv\")\n",
    "    #df[\"datetime\"] = pd.to_datetime(df[\"datetime\"])\n",
    "    return df.head()"
   ]
  },
  {
   "cell_type": "code",
   "execution_count": 3,
   "id": "2d44133e",
   "metadata": {},
   "outputs": [
    {
     "data": {
      "text/html": [
       "<div>\n",
       "<style scoped>\n",
       "    .dataframe tbody tr th:only-of-type {\n",
       "        vertical-align: middle;\n",
       "    }\n",
       "\n",
       "    .dataframe tbody tr th {\n",
       "        vertical-align: top;\n",
       "    }\n",
       "\n",
       "    .dataframe thead th {\n",
       "        text-align: right;\n",
       "    }\n",
       "</style>\n",
       "<table border=\"1\" class=\"dataframe\">\n",
       "  <thead>\n",
       "    <tr style=\"text-align: right;\">\n",
       "      <th></th>\n",
       "      <th>Unnamed: 0</th>\n",
       "      <th>activate</th>\n",
       "      <th>name</th>\n",
       "      <th>reservations_count</th>\n",
       "      <th>light</th>\n",
       "      <th>total_bases</th>\n",
       "      <th>free_bases</th>\n",
       "      <th>number</th>\n",
       "      <th>longitude</th>\n",
       "      <th>no_available</th>\n",
       "      <th>...</th>\n",
       "      <th>weather_main</th>\n",
       "      <th>weekday</th>\n",
       "      <th>year</th>\n",
       "      <th>month</th>\n",
       "      <th>hour_sin</th>\n",
       "      <th>hour_cos</th>\n",
       "      <th>weekday_sin</th>\n",
       "      <th>weekday_cos</th>\n",
       "      <th>month_sin</th>\n",
       "      <th>month_cos</th>\n",
       "    </tr>\n",
       "  </thead>\n",
       "  <tbody>\n",
       "    <tr>\n",
       "      <th>0</th>\n",
       "      <td>0</td>\n",
       "      <td>1</td>\n",
       "      <td>Puerta del Sol A</td>\n",
       "      <td>1</td>\n",
       "      <td>0</td>\n",
       "      <td>24</td>\n",
       "      <td>21</td>\n",
       "      <td>1a</td>\n",
       "      <td>-3.702425</td>\n",
       "      <td>0</td>\n",
       "      <td>...</td>\n",
       "      <td>Clear</td>\n",
       "      <td>6</td>\n",
       "      <td>2018</td>\n",
       "      <td>9</td>\n",
       "      <td>-0.258819</td>\n",
       "      <td>0.965926</td>\n",
       "      <td>-0.781831</td>\n",
       "      <td>0.62349</td>\n",
       "      <td>0.866025</td>\n",
       "      <td>-0.5</td>\n",
       "    </tr>\n",
       "    <tr>\n",
       "      <th>1</th>\n",
       "      <td>1</td>\n",
       "      <td>1</td>\n",
       "      <td>Puerta del Sol A</td>\n",
       "      <td>0</td>\n",
       "      <td>0</td>\n",
       "      <td>24</td>\n",
       "      <td>17</td>\n",
       "      <td>1a</td>\n",
       "      <td>-3.702425</td>\n",
       "      <td>0</td>\n",
       "      <td>...</td>\n",
       "      <td>Clear</td>\n",
       "      <td>6</td>\n",
       "      <td>2018</td>\n",
       "      <td>9</td>\n",
       "      <td>-0.500000</td>\n",
       "      <td>0.866025</td>\n",
       "      <td>-0.781831</td>\n",
       "      <td>0.62349</td>\n",
       "      <td>0.866025</td>\n",
       "      <td>-0.5</td>\n",
       "    </tr>\n",
       "    <tr>\n",
       "      <th>2</th>\n",
       "      <td>2</td>\n",
       "      <td>1</td>\n",
       "      <td>Puerta del Sol A</td>\n",
       "      <td>0</td>\n",
       "      <td>2</td>\n",
       "      <td>24</td>\n",
       "      <td>13</td>\n",
       "      <td>1a</td>\n",
       "      <td>-3.702425</td>\n",
       "      <td>0</td>\n",
       "      <td>...</td>\n",
       "      <td>Clear</td>\n",
       "      <td>6</td>\n",
       "      <td>2018</td>\n",
       "      <td>9</td>\n",
       "      <td>-0.707107</td>\n",
       "      <td>0.707107</td>\n",
       "      <td>-0.781831</td>\n",
       "      <td>0.62349</td>\n",
       "      <td>0.866025</td>\n",
       "      <td>-0.5</td>\n",
       "    </tr>\n",
       "    <tr>\n",
       "      <th>3</th>\n",
       "      <td>3</td>\n",
       "      <td>1</td>\n",
       "      <td>Puerta del Sol A</td>\n",
       "      <td>0</td>\n",
       "      <td>2</td>\n",
       "      <td>24</td>\n",
       "      <td>10</td>\n",
       "      <td>1a</td>\n",
       "      <td>-3.702425</td>\n",
       "      <td>0</td>\n",
       "      <td>...</td>\n",
       "      <td>Clear</td>\n",
       "      <td>6</td>\n",
       "      <td>2018</td>\n",
       "      <td>9</td>\n",
       "      <td>-0.866025</td>\n",
       "      <td>0.500000</td>\n",
       "      <td>-0.781831</td>\n",
       "      <td>0.62349</td>\n",
       "      <td>0.866025</td>\n",
       "      <td>-0.5</td>\n",
       "    </tr>\n",
       "    <tr>\n",
       "      <th>4</th>\n",
       "      <td>4</td>\n",
       "      <td>1</td>\n",
       "      <td>Puerta del Sol A</td>\n",
       "      <td>0</td>\n",
       "      <td>1</td>\n",
       "      <td>24</td>\n",
       "      <td>5</td>\n",
       "      <td>1a</td>\n",
       "      <td>-3.702425</td>\n",
       "      <td>0</td>\n",
       "      <td>...</td>\n",
       "      <td>Clear</td>\n",
       "      <td>6</td>\n",
       "      <td>2018</td>\n",
       "      <td>9</td>\n",
       "      <td>-0.965926</td>\n",
       "      <td>0.258819</td>\n",
       "      <td>-0.781831</td>\n",
       "      <td>0.62349</td>\n",
       "      <td>0.866025</td>\n",
       "      <td>-0.5</td>\n",
       "    </tr>\n",
       "  </tbody>\n",
       "</table>\n",
       "<p>5 rows × 30 columns</p>\n",
       "</div>"
      ],
      "text/plain": [
       "   Unnamed: 0  activate              name  reservations_count  light  \\\n",
       "0           0         1  Puerta del Sol A                   1      0   \n",
       "1           1         1  Puerta del Sol A                   0      0   \n",
       "2           2         1  Puerta del Sol A                   0      2   \n",
       "3           3         1  Puerta del Sol A                   0      2   \n",
       "4           4         1  Puerta del Sol A                   0      1   \n",
       "\n",
       "   total_bases  free_bases number  longitude  no_available  ... weather_main  \\\n",
       "0           24          21     1a  -3.702425             0  ...        Clear   \n",
       "1           24          17     1a  -3.702425             0  ...        Clear   \n",
       "2           24          13     1a  -3.702425             0  ...        Clear   \n",
       "3           24          10     1a  -3.702425             0  ...        Clear   \n",
       "4           24           5     1a  -3.702425             0  ...        Clear   \n",
       "\n",
       "   weekday  year month  hour_sin  hour_cos  weekday_sin weekday_cos  \\\n",
       "0        6  2018     9 -0.258819  0.965926    -0.781831     0.62349   \n",
       "1        6  2018     9 -0.500000  0.866025    -0.781831     0.62349   \n",
       "2        6  2018     9 -0.707107  0.707107    -0.781831     0.62349   \n",
       "3        6  2018     9 -0.866025  0.500000    -0.781831     0.62349   \n",
       "4        6  2018     9 -0.965926  0.258819    -0.781831     0.62349   \n",
       "\n",
       "   month_sin  month_cos  \n",
       "0   0.866025       -0.5  \n",
       "1   0.866025       -0.5  \n",
       "2   0.866025       -0.5  \n",
       "3   0.866025       -0.5  \n",
       "4   0.866025       -0.5  \n",
       "\n",
       "[5 rows x 30 columns]"
      ]
     },
     "execution_count": 3,
     "metadata": {},
     "output_type": "execute_result"
    }
   ],
   "source": [
    "df=load_data()\n",
    "df.head()"
   ]
  },
  {
   "cell_type": "code",
   "execution_count": 4,
   "id": "f458d2d2",
   "metadata": {},
   "outputs": [],
   "source": [
    "df.drop(columns=['Unnamed: 0','Unnamed: 0.1','datetime'],inplace=True)"
   ]
  },
  {
   "cell_type": "code",
   "execution_count": 5,
   "id": "d678f47b",
   "metadata": {},
   "outputs": [
    {
     "data": {
      "text/plain": [
       "0    2018-09-30T23:42:38.647290\n",
       "1    2018-09-30T22:42:34.124619\n",
       "2    2018-09-30T21:42:33.535879\n",
       "3    2018-09-30T20:42:31.072733\n",
       "4    2018-09-30T19:42:30.092827\n",
       "Name: id, dtype: object"
      ]
     },
     "execution_count": 5,
     "metadata": {},
     "output_type": "execute_result"
    }
   ],
   "source": [
    "df['id']"
   ]
  },
  {
   "cell_type": "code",
   "execution_count": 6,
   "id": "aabf33ab",
   "metadata": {},
   "outputs": [],
   "source": [
    "df['id']=df['id'].apply(lambda x: x.replace('T',' '))"
   ]
  },
  {
   "cell_type": "code",
   "execution_count": 7,
   "id": "7e7ff2e7",
   "metadata": {},
   "outputs": [],
   "source": [
    "df['id']=pd.to_datetime(df['id'], format='%Y-%m-%d %H:%M:%S', errors='ignore',exact=True)"
   ]
  },
  {
   "cell_type": "code",
   "execution_count": null,
   "id": "240eebce",
   "metadata": {},
   "outputs": [],
   "source": [
    "#df['id'].dt.strftime['%Y-%m-%d %H:%M:%S']"
   ]
  },
  {
   "cell_type": "code",
   "execution_count": 11,
   "id": "95265cb5",
   "metadata": {},
   "outputs": [
    {
     "data": {
      "text/plain": [
       "0   2018-09-30 23:42:38\n",
       "1   2018-09-30 22:42:34\n",
       "2   2018-09-30 21:42:33\n",
       "3   2018-09-30 20:42:31\n",
       "4   2018-09-30 19:42:30\n",
       "Name: id, dtype: datetime64[ns]"
      ]
     },
     "execution_count": 11,
     "metadata": {},
     "output_type": "execute_result"
    }
   ],
   "source": [
    "df['id'].astype('datetime64[s]')"
   ]
  },
  {
   "cell_type": "code",
   "execution_count": 12,
   "id": "74370b09",
   "metadata": {},
   "outputs": [
    {
     "data": {
      "text/plain": [
       "Timestamp('2018-09-30 19:42:30.092827')"
      ]
     },
     "execution_count": 12,
     "metadata": {},
     "output_type": "execute_result"
    }
   ],
   "source": [
    "df['id'].min()"
   ]
  },
  {
   "cell_type": "code",
   "execution_count": null,
   "id": "d4ae32d9",
   "metadata": {},
   "outputs": [],
   "source": []
  }
 ],
 "metadata": {
  "kernelspec": {
   "display_name": "Python 3 (ipykernel)",
   "language": "python",
   "name": "python3"
  },
  "language_info": {
   "codemirror_mode": {
    "name": "ipython",
    "version": 3
   },
   "file_extension": ".py",
   "mimetype": "text/x-python",
   "name": "python",
   "nbconvert_exporter": "python",
   "pygments_lexer": "ipython3",
   "version": "3.8.12"
  },
  "toc": {
   "base_numbering": 1,
   "nav_menu": {},
   "number_sections": true,
   "sideBar": true,
   "skip_h1_title": false,
   "title_cell": "Table of Contents",
   "title_sidebar": "Contents",
   "toc_cell": false,
   "toc_position": {},
   "toc_section_display": true,
   "toc_window_display": false
  }
 },
 "nbformat": 4,
 "nbformat_minor": 5
}
