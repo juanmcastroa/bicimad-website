{
 "cells": [
  {
   "cell_type": "code",
   "execution_count": 1,
   "id": "6a6b1714",
   "metadata": {},
   "outputs": [],
   "source": [
    "import pandas as pd\n",
    "\n",
    "def load_data():\n",
    "    \"\"\" Load the cleaned data with latitudes, longitudes & timestamps \"\"\"\n",
    "    df = pd.read_csv(\"three_years_weather.csv\")\n",
    "    #df[\"datetime\"] = pd.to_datetime(df[\"datetime\"])\n",
    "    return df"
   ]
  },
  {
   "cell_type": "code",
   "execution_count": 2,
   "id": "ea34cec9",
   "metadata": {},
   "outputs": [
    {
     "name": "stdout",
     "output_type": "stream",
     "text": [
      "/Users/juancastro/code/juanmcastroa/bicimad-website\r\n"
     ]
    }
   ],
   "source": [
    "!pwd"
   ]
  },
  {
   "cell_type": "code",
   "execution_count": 3,
   "id": "06ded7fe",
   "metadata": {
    "collapsed": true
   },
   "outputs": [
    {
     "ename": "FileNotFoundError",
     "evalue": "[Errno 2] No such file or directory: 'three_years_weather.csv'",
     "output_type": "error",
     "traceback": [
      "\u001b[0;31m---------------------------------------------------------------------------\u001b[0m",
      "\u001b[0;31mFileNotFoundError\u001b[0m                         Traceback (most recent call last)",
      "\u001b[0;32m/var/folders/hr/jf_0d1t95b98cmbwydqdzvzh0000gn/T/ipykernel_25414/1693447027.py\u001b[0m in \u001b[0;36m<module>\u001b[0;34m\u001b[0m\n\u001b[0;32m----> 1\u001b[0;31m \u001b[0mdf\u001b[0m \u001b[0;34m=\u001b[0m \u001b[0mload_data\u001b[0m\u001b[0;34m(\u001b[0m\u001b[0;34m)\u001b[0m\u001b[0;34m\u001b[0m\u001b[0;34m\u001b[0m\u001b[0m\n\u001b[0m\u001b[1;32m      2\u001b[0m \u001b[0mdf\u001b[0m\u001b[0;34m.\u001b[0m\u001b[0mshape\u001b[0m\u001b[0;34m\u001b[0m\u001b[0;34m\u001b[0m\u001b[0m\n",
      "\u001b[0;32m/var/folders/hr/jf_0d1t95b98cmbwydqdzvzh0000gn/T/ipykernel_25414/3078626053.py\u001b[0m in \u001b[0;36mload_data\u001b[0;34m()\u001b[0m\n\u001b[1;32m      3\u001b[0m \u001b[0;32mdef\u001b[0m \u001b[0mload_data\u001b[0m\u001b[0;34m(\u001b[0m\u001b[0;34m)\u001b[0m\u001b[0;34m:\u001b[0m\u001b[0;34m\u001b[0m\u001b[0;34m\u001b[0m\u001b[0m\n\u001b[1;32m      4\u001b[0m     \u001b[0;34m\"\"\" Load the cleaned data with latitudes, longitudes & timestamps \"\"\"\u001b[0m\u001b[0;34m\u001b[0m\u001b[0;34m\u001b[0m\u001b[0m\n\u001b[0;32m----> 5\u001b[0;31m     \u001b[0mdf\u001b[0m \u001b[0;34m=\u001b[0m \u001b[0mpd\u001b[0m\u001b[0;34m.\u001b[0m\u001b[0mread_csv\u001b[0m\u001b[0;34m(\u001b[0m\u001b[0;34m\"three_years_weather.csv\"\u001b[0m\u001b[0;34m)\u001b[0m\u001b[0;34m\u001b[0m\u001b[0;34m\u001b[0m\u001b[0m\n\u001b[0m\u001b[1;32m      6\u001b[0m     \u001b[0;31m#df[\"datetime\"] = pd.to_datetime(df[\"datetime\"])\u001b[0m\u001b[0;34m\u001b[0m\u001b[0;34m\u001b[0m\u001b[0;34m\u001b[0m\u001b[0m\n\u001b[1;32m      7\u001b[0m     \u001b[0;32mreturn\u001b[0m \u001b[0mdf\u001b[0m\u001b[0;34m\u001b[0m\u001b[0;34m\u001b[0m\u001b[0m\n",
      "\u001b[0;32m~/.pyenv/versions/3.8.12/envs/lewagon/lib/python3.8/site-packages/pandas/util/_decorators.py\u001b[0m in \u001b[0;36mwrapper\u001b[0;34m(*args, **kwargs)\u001b[0m\n\u001b[1;32m    309\u001b[0m                     \u001b[0mstacklevel\u001b[0m\u001b[0;34m=\u001b[0m\u001b[0mstacklevel\u001b[0m\u001b[0;34m,\u001b[0m\u001b[0;34m\u001b[0m\u001b[0;34m\u001b[0m\u001b[0m\n\u001b[1;32m    310\u001b[0m                 )\n\u001b[0;32m--> 311\u001b[0;31m             \u001b[0;32mreturn\u001b[0m \u001b[0mfunc\u001b[0m\u001b[0;34m(\u001b[0m\u001b[0;34m*\u001b[0m\u001b[0margs\u001b[0m\u001b[0;34m,\u001b[0m \u001b[0;34m**\u001b[0m\u001b[0mkwargs\u001b[0m\u001b[0;34m)\u001b[0m\u001b[0;34m\u001b[0m\u001b[0;34m\u001b[0m\u001b[0m\n\u001b[0m\u001b[1;32m    312\u001b[0m \u001b[0;34m\u001b[0m\u001b[0m\n\u001b[1;32m    313\u001b[0m         \u001b[0;32mreturn\u001b[0m \u001b[0mwrapper\u001b[0m\u001b[0;34m\u001b[0m\u001b[0;34m\u001b[0m\u001b[0m\n",
      "\u001b[0;32m~/.pyenv/versions/3.8.12/envs/lewagon/lib/python3.8/site-packages/pandas/io/parsers/readers.py\u001b[0m in \u001b[0;36mread_csv\u001b[0;34m(filepath_or_buffer, sep, delimiter, header, names, index_col, usecols, squeeze, prefix, mangle_dupe_cols, dtype, engine, converters, true_values, false_values, skipinitialspace, skiprows, skipfooter, nrows, na_values, keep_default_na, na_filter, verbose, skip_blank_lines, parse_dates, infer_datetime_format, keep_date_col, date_parser, dayfirst, cache_dates, iterator, chunksize, compression, thousands, decimal, lineterminator, quotechar, quoting, doublequote, escapechar, comment, encoding, encoding_errors, dialect, error_bad_lines, warn_bad_lines, on_bad_lines, delim_whitespace, low_memory, memory_map, float_precision, storage_options)\u001b[0m\n\u001b[1;32m    584\u001b[0m     \u001b[0mkwds\u001b[0m\u001b[0;34m.\u001b[0m\u001b[0mupdate\u001b[0m\u001b[0;34m(\u001b[0m\u001b[0mkwds_defaults\u001b[0m\u001b[0;34m)\u001b[0m\u001b[0;34m\u001b[0m\u001b[0;34m\u001b[0m\u001b[0m\n\u001b[1;32m    585\u001b[0m \u001b[0;34m\u001b[0m\u001b[0m\n\u001b[0;32m--> 586\u001b[0;31m     \u001b[0;32mreturn\u001b[0m \u001b[0m_read\u001b[0m\u001b[0;34m(\u001b[0m\u001b[0mfilepath_or_buffer\u001b[0m\u001b[0;34m,\u001b[0m \u001b[0mkwds\u001b[0m\u001b[0;34m)\u001b[0m\u001b[0;34m\u001b[0m\u001b[0;34m\u001b[0m\u001b[0m\n\u001b[0m\u001b[1;32m    587\u001b[0m \u001b[0;34m\u001b[0m\u001b[0m\n\u001b[1;32m    588\u001b[0m \u001b[0;34m\u001b[0m\u001b[0m\n",
      "\u001b[0;32m~/.pyenv/versions/3.8.12/envs/lewagon/lib/python3.8/site-packages/pandas/io/parsers/readers.py\u001b[0m in \u001b[0;36m_read\u001b[0;34m(filepath_or_buffer, kwds)\u001b[0m\n\u001b[1;32m    480\u001b[0m \u001b[0;34m\u001b[0m\u001b[0m\n\u001b[1;32m    481\u001b[0m     \u001b[0;31m# Create the parser.\u001b[0m\u001b[0;34m\u001b[0m\u001b[0;34m\u001b[0m\u001b[0;34m\u001b[0m\u001b[0m\n\u001b[0;32m--> 482\u001b[0;31m     \u001b[0mparser\u001b[0m \u001b[0;34m=\u001b[0m \u001b[0mTextFileReader\u001b[0m\u001b[0;34m(\u001b[0m\u001b[0mfilepath_or_buffer\u001b[0m\u001b[0;34m,\u001b[0m \u001b[0;34m**\u001b[0m\u001b[0mkwds\u001b[0m\u001b[0;34m)\u001b[0m\u001b[0;34m\u001b[0m\u001b[0;34m\u001b[0m\u001b[0m\n\u001b[0m\u001b[1;32m    483\u001b[0m \u001b[0;34m\u001b[0m\u001b[0m\n\u001b[1;32m    484\u001b[0m     \u001b[0;32mif\u001b[0m \u001b[0mchunksize\u001b[0m \u001b[0;32mor\u001b[0m \u001b[0miterator\u001b[0m\u001b[0;34m:\u001b[0m\u001b[0;34m\u001b[0m\u001b[0;34m\u001b[0m\u001b[0m\n",
      "\u001b[0;32m~/.pyenv/versions/3.8.12/envs/lewagon/lib/python3.8/site-packages/pandas/io/parsers/readers.py\u001b[0m in \u001b[0;36m__init__\u001b[0;34m(self, f, engine, **kwds)\u001b[0m\n\u001b[1;32m    809\u001b[0m             \u001b[0mself\u001b[0m\u001b[0;34m.\u001b[0m\u001b[0moptions\u001b[0m\u001b[0;34m[\u001b[0m\u001b[0;34m\"has_index_names\"\u001b[0m\u001b[0;34m]\u001b[0m \u001b[0;34m=\u001b[0m \u001b[0mkwds\u001b[0m\u001b[0;34m[\u001b[0m\u001b[0;34m\"has_index_names\"\u001b[0m\u001b[0;34m]\u001b[0m\u001b[0;34m\u001b[0m\u001b[0;34m\u001b[0m\u001b[0m\n\u001b[1;32m    810\u001b[0m \u001b[0;34m\u001b[0m\u001b[0m\n\u001b[0;32m--> 811\u001b[0;31m         \u001b[0mself\u001b[0m\u001b[0;34m.\u001b[0m\u001b[0m_engine\u001b[0m \u001b[0;34m=\u001b[0m \u001b[0mself\u001b[0m\u001b[0;34m.\u001b[0m\u001b[0m_make_engine\u001b[0m\u001b[0;34m(\u001b[0m\u001b[0mself\u001b[0m\u001b[0;34m.\u001b[0m\u001b[0mengine\u001b[0m\u001b[0;34m)\u001b[0m\u001b[0;34m\u001b[0m\u001b[0;34m\u001b[0m\u001b[0m\n\u001b[0m\u001b[1;32m    812\u001b[0m \u001b[0;34m\u001b[0m\u001b[0m\n\u001b[1;32m    813\u001b[0m     \u001b[0;32mdef\u001b[0m \u001b[0mclose\u001b[0m\u001b[0;34m(\u001b[0m\u001b[0mself\u001b[0m\u001b[0;34m)\u001b[0m\u001b[0;34m:\u001b[0m\u001b[0;34m\u001b[0m\u001b[0;34m\u001b[0m\u001b[0m\n",
      "\u001b[0;32m~/.pyenv/versions/3.8.12/envs/lewagon/lib/python3.8/site-packages/pandas/io/parsers/readers.py\u001b[0m in \u001b[0;36m_make_engine\u001b[0;34m(self, engine)\u001b[0m\n\u001b[1;32m   1038\u001b[0m             )\n\u001b[1;32m   1039\u001b[0m         \u001b[0;31m# error: Too many arguments for \"ParserBase\"\u001b[0m\u001b[0;34m\u001b[0m\u001b[0;34m\u001b[0m\u001b[0;34m\u001b[0m\u001b[0m\n\u001b[0;32m-> 1040\u001b[0;31m         \u001b[0;32mreturn\u001b[0m \u001b[0mmapping\u001b[0m\u001b[0;34m[\u001b[0m\u001b[0mengine\u001b[0m\u001b[0;34m]\u001b[0m\u001b[0;34m(\u001b[0m\u001b[0mself\u001b[0m\u001b[0;34m.\u001b[0m\u001b[0mf\u001b[0m\u001b[0;34m,\u001b[0m \u001b[0;34m**\u001b[0m\u001b[0mself\u001b[0m\u001b[0;34m.\u001b[0m\u001b[0moptions\u001b[0m\u001b[0;34m)\u001b[0m  \u001b[0;31m# type: ignore[call-arg]\u001b[0m\u001b[0;34m\u001b[0m\u001b[0;34m\u001b[0m\u001b[0m\n\u001b[0m\u001b[1;32m   1041\u001b[0m \u001b[0;34m\u001b[0m\u001b[0m\n\u001b[1;32m   1042\u001b[0m     \u001b[0;32mdef\u001b[0m \u001b[0m_failover_to_python\u001b[0m\u001b[0;34m(\u001b[0m\u001b[0mself\u001b[0m\u001b[0;34m)\u001b[0m\u001b[0;34m:\u001b[0m\u001b[0;34m\u001b[0m\u001b[0;34m\u001b[0m\u001b[0m\n",
      "\u001b[0;32m~/.pyenv/versions/3.8.12/envs/lewagon/lib/python3.8/site-packages/pandas/io/parsers/c_parser_wrapper.py\u001b[0m in \u001b[0;36m__init__\u001b[0;34m(self, src, **kwds)\u001b[0m\n\u001b[1;32m     49\u001b[0m \u001b[0;34m\u001b[0m\u001b[0m\n\u001b[1;32m     50\u001b[0m         \u001b[0;31m# open handles\u001b[0m\u001b[0;34m\u001b[0m\u001b[0;34m\u001b[0m\u001b[0;34m\u001b[0m\u001b[0m\n\u001b[0;32m---> 51\u001b[0;31m         \u001b[0mself\u001b[0m\u001b[0;34m.\u001b[0m\u001b[0m_open_handles\u001b[0m\u001b[0;34m(\u001b[0m\u001b[0msrc\u001b[0m\u001b[0;34m,\u001b[0m \u001b[0mkwds\u001b[0m\u001b[0;34m)\u001b[0m\u001b[0;34m\u001b[0m\u001b[0;34m\u001b[0m\u001b[0m\n\u001b[0m\u001b[1;32m     52\u001b[0m         \u001b[0;32massert\u001b[0m \u001b[0mself\u001b[0m\u001b[0;34m.\u001b[0m\u001b[0mhandles\u001b[0m \u001b[0;32mis\u001b[0m \u001b[0;32mnot\u001b[0m \u001b[0;32mNone\u001b[0m\u001b[0;34m\u001b[0m\u001b[0;34m\u001b[0m\u001b[0m\n\u001b[1;32m     53\u001b[0m \u001b[0;34m\u001b[0m\u001b[0m\n",
      "\u001b[0;32m~/.pyenv/versions/3.8.12/envs/lewagon/lib/python3.8/site-packages/pandas/io/parsers/base_parser.py\u001b[0m in \u001b[0;36m_open_handles\u001b[0;34m(self, src, kwds)\u001b[0m\n\u001b[1;32m    220\u001b[0m         \u001b[0mLet\u001b[0m \u001b[0mthe\u001b[0m \u001b[0mreaders\u001b[0m \u001b[0mopen\u001b[0m \u001b[0mIOHandles\u001b[0m \u001b[0mafter\u001b[0m \u001b[0mthey\u001b[0m \u001b[0mare\u001b[0m \u001b[0mdone\u001b[0m \u001b[0;32mwith\u001b[0m \u001b[0mtheir\u001b[0m \u001b[0mpotential\u001b[0m \u001b[0mraises\u001b[0m\u001b[0;34m.\u001b[0m\u001b[0;34m\u001b[0m\u001b[0;34m\u001b[0m\u001b[0m\n\u001b[1;32m    221\u001b[0m         \"\"\"\n\u001b[0;32m--> 222\u001b[0;31m         self.handles = get_handle(\n\u001b[0m\u001b[1;32m    223\u001b[0m             \u001b[0msrc\u001b[0m\u001b[0;34m,\u001b[0m\u001b[0;34m\u001b[0m\u001b[0;34m\u001b[0m\u001b[0m\n\u001b[1;32m    224\u001b[0m             \u001b[0;34m\"r\"\u001b[0m\u001b[0;34m,\u001b[0m\u001b[0;34m\u001b[0m\u001b[0;34m\u001b[0m\u001b[0m\n",
      "\u001b[0;32m~/.pyenv/versions/3.8.12/envs/lewagon/lib/python3.8/site-packages/pandas/io/common.py\u001b[0m in \u001b[0;36mget_handle\u001b[0;34m(path_or_buf, mode, encoding, compression, memory_map, is_text, errors, storage_options)\u001b[0m\n\u001b[1;32m    700\u001b[0m         \u001b[0;32mif\u001b[0m \u001b[0mioargs\u001b[0m\u001b[0;34m.\u001b[0m\u001b[0mencoding\u001b[0m \u001b[0;32mand\u001b[0m \u001b[0;34m\"b\"\u001b[0m \u001b[0;32mnot\u001b[0m \u001b[0;32min\u001b[0m \u001b[0mioargs\u001b[0m\u001b[0;34m.\u001b[0m\u001b[0mmode\u001b[0m\u001b[0;34m:\u001b[0m\u001b[0;34m\u001b[0m\u001b[0;34m\u001b[0m\u001b[0m\n\u001b[1;32m    701\u001b[0m             \u001b[0;31m# Encoding\u001b[0m\u001b[0;34m\u001b[0m\u001b[0;34m\u001b[0m\u001b[0;34m\u001b[0m\u001b[0m\n\u001b[0;32m--> 702\u001b[0;31m             handle = open(\n\u001b[0m\u001b[1;32m    703\u001b[0m                 \u001b[0mhandle\u001b[0m\u001b[0;34m,\u001b[0m\u001b[0;34m\u001b[0m\u001b[0;34m\u001b[0m\u001b[0m\n\u001b[1;32m    704\u001b[0m                 \u001b[0mioargs\u001b[0m\u001b[0;34m.\u001b[0m\u001b[0mmode\u001b[0m\u001b[0;34m,\u001b[0m\u001b[0;34m\u001b[0m\u001b[0;34m\u001b[0m\u001b[0m\n",
      "\u001b[0;31mFileNotFoundError\u001b[0m: [Errno 2] No such file or directory: 'three_years_weather.csv'"
     ]
    }
   ],
   "source": [
    "df = load_data()\n",
    "df.shape"
   ]
  },
  {
   "cell_type": "code",
   "execution_count": null,
   "id": "77dae4c5",
   "metadata": {},
   "outputs": [],
   "source": [
    "df.drop(columns=['Unnamed: 0','Unnamed: 0.1','datetime'],inplace=True)"
   ]
  },
  {
   "cell_type": "code",
   "execution_count": null,
   "id": "14142bd1",
   "metadata": {},
   "outputs": [],
   "source": [
    "df['id']"
   ]
  },
  {
   "cell_type": "code",
   "execution_count": null,
   "id": "83e38fe4",
   "metadata": {},
   "outputs": [],
   "source": [
    "df['id']=df['id'].apply(lambda x: x.replace('T',' '))"
   ]
  },
  {
   "cell_type": "code",
   "execution_count": null,
   "id": "8b4b023d",
   "metadata": {},
   "outputs": [],
   "source": [
    "df['id']=pd.to_datetime(df['id'], format='%Y-%m-%d %H:%M:%S', errors='ignore',exact=True)"
   ]
  },
  {
   "cell_type": "code",
   "execution_count": null,
   "id": "756b46d0",
   "metadata": {},
   "outputs": [],
   "source": [
    "#df['id'].dt.strftime['%Y-%m-%d %H:%M:%S']"
   ]
  },
  {
   "cell_type": "code",
   "execution_count": null,
   "id": "df67af43",
   "metadata": {},
   "outputs": [],
   "source": [
    "df['id'].astype('datetime64[s]')"
   ]
  },
  {
   "cell_type": "code",
   "execution_count": null,
   "id": "b6a0c615",
   "metadata": {},
   "outputs": [],
   "source": [
    "df['id'].min()"
   ]
  },
  {
   "cell_type": "code",
   "execution_count": null,
   "id": "d83a7627",
   "metadata": {},
   "outputs": [],
   "source": [
    "(df['id'].max()-df['id'].min())"
   ]
  },
  {
   "cell_type": "code",
   "execution_count": null,
   "id": "2bac62d0",
   "metadata": {},
   "outputs": [],
   "source": [
    "df.columns"
   ]
  },
  {
   "cell_type": "code",
   "execution_count": null,
   "id": "769d9975",
   "metadata": {},
   "outputs": [],
   "source": [
    "df2 = pd.read_csv('bases_bicimad.csv', sep=\";\")\n"
   ]
  },
  {
   "cell_type": "code",
   "execution_count": null,
   "id": "627f8fe4",
   "metadata": {},
   "outputs": [],
   "source": [
    "df2.rename(columns={'Longitud':'longitude','Latitud':'latitude'},inplace=True)"
   ]
  },
  {
   "cell_type": "code",
   "execution_count": null,
   "id": "a3ebe599",
   "metadata": {},
   "outputs": [],
   "source": [
    "df2.dtypes"
   ]
  },
  {
   "cell_type": "code",
   "execution_count": null,
   "id": "b33d2f3a",
   "metadata": {
    "scrolled": false
   },
   "outputs": [],
   "source": [
    "!pip install mlflow\n",
    "\n"
   ]
  },
  {
   "cell_type": "code",
   "execution_count": null,
   "id": "b240116a",
   "metadata": {},
   "outputs": [],
   "source": [
    "import mlflow\n",
    "\n",
    "mlflow.set_tracking_uri(\"https://mlflow.lewagon.ai\")\n",
    "\n",
    "#model_uri = \"models:/bicimad_model1_Bidirectional_LSTM128_Drop_Dense/versions/1\"\n",
    "experiment_name='BiciMad'\n",
    "model_name= 'bicimad_model1_Bidirectional_LSTM128_Drop_Dense'\n",
    "model_version='1'\n",
    "model_uri = f\"models:/{model_name}/{model_version}\"\n",
    "\n",
    "model = mlflow.keras.load_model(model_uri=model_uri)"
   ]
  },
  {
   "cell_type": "code",
   "execution_count": null,
   "id": "1504b456",
   "metadata": {},
   "outputs": [],
   "source": [
    "import mlflow\n",
    "mlflow.set_tracking_uri('https://mlflow.lewagon.ai')\n",
    "model = mlflow.keras.load_model('models:/taxifare_mfcorredor/Production')"
   ]
  },
  {
   "cell_type": "code",
   "execution_count": null,
   "id": "cce8cfc4",
   "metadata": {},
   "outputs": [],
   "source": [
    "\n",
    "mlflow_experiment = 'BiciMad'\n",
    "mlflow_model_name = 'bicimad_model1_Bidirectional_LSTM128_Drop_Dense'\n",
    "\n",
    "mlflow.set_tracking_uri(mlflow_tracking_uri)\n",
    "mlflow.set_experiment(experiment_name=mlflow_experiment)\n",
    "\n",
    "with mlflow.start_run():\n",
    "\n",
    "    params={}\n",
    "    metrics={}\n",
    "\n",
    "    if params is not None:\n",
    "        mlflow.log_params(params)\n",
    "\n",
    "    if metrics is not None:\n",
    "        mlflow.log_metrics(metrics)\n",
    "\n",
    "    if model is not None:\n",
    "\n",
    "        mlflow.keras.log_model(keras_model=model,\n",
    "                               artifact_path=\"model\",\n",
    "                               keras_module=\"tensorflow.keras\",\n",
    "                               registered_model_name=mlflow_model_name)\n",
    "\n",
    "    print(\"\\n✅ data saved to mlflow\")"
   ]
  },
  {
   "cell_type": "code",
   "execution_count": null,
   "id": "b53635f6",
   "metadata": {},
   "outputs": [],
   "source": [
    "import mlflow\n",
    "mlflow.set_tracking_uri('https://mlflow.lewagon.ai')\n",
    "model = mlflow.keras.load_model('models:/taxifare_mfcorredor/Production')\n"
   ]
  },
  {
   "cell_type": "code",
   "execution_count": null,
   "id": "e7b252bb",
   "metadata": {},
   "outputs": [],
   "source": [
    "model_name= 'bicimad_model1_Bidirectional_LSTM128_Drop_Dense'\n",
    "model_version='Production'\n",
    "model_uri = f\"models:/{model_name}/{model_version}\"\n",
    "\n",
    "model = mlflow.keras.load_model(model_uri=model_uri)"
   ]
  },
  {
   "cell_type": "code",
   "execution_count": null,
   "id": "1f2620e7",
   "metadata": {},
   "outputs": [],
   "source": [
    "!pip install mlflow==1.28.0"
   ]
  },
  {
   "cell_type": "code",
   "execution_count": null,
   "id": "2b3c0b85",
   "metadata": {},
   "outputs": [],
   "source": [
    "!pip freeze | grep urllib"
   ]
  },
  {
   "cell_type": "code",
   "execution_count": null,
   "id": "5545af39",
   "metadata": {},
   "outputs": [],
   "source": [
    "!pip install urllib3==1.26.11"
   ]
  },
  {
   "cell_type": "code",
   "execution_count": null,
   "id": "ea2294f0",
   "metadata": {},
   "outputs": [],
   "source": [
    "import mlflow\n",
    "mlflow.set_tracking_uri('https://mlflow.lewagon.ai')\n",
    "model_name= 'bicimad_model1_Bidirectional_LSTM128_Drop_Dense'\n",
    "model_version='Production'\n",
    "model_uri = f\"models:/{model_name}/{model_version}\"\n",
    "\n",
    "model = mlflow.keras.load_model(model_uri=model_uri)"
   ]
  },
  {
   "cell_type": "code",
   "execution_count": null,
   "id": "786bdda3",
   "metadata": {},
   "outputs": [],
   "source": [
    "model = mlflow.keras.load_model(model_uri='models:/taxifare_mfcorredor/Production')"
   ]
  },
  {
   "cell_type": "code",
   "execution_count": null,
   "id": "a352dc87",
   "metadata": {},
   "outputs": [],
   "source": [
    "#-----------------------------------"
   ]
  },
  {
   "cell_type": "code",
   "execution_count": null,
   "id": "51f04b74",
   "metadata": {},
   "outputs": [],
   "source": [
    "import pandas as pd\n",
    "import datetime"
   ]
  },
  {
   "cell_type": "code",
   "execution_count": null,
   "id": "a8b55774",
   "metadata": {},
   "outputs": [],
   "source": [
    "def load_data():\n",
    "    \"\"\" Load the cleaned data with latitudes, longitudes & timestamps \"\"\"\n",
    "    df = pd.read_csv(\"station_1.csv\")\n",
    "    df['id']=pd.to_datetime(df['id'], format='%Y-%m-%d %H:%M:%S', errors='ignore',exact=True)\n",
    "    #travel_log[\"date\"] = pd.to_datetime(travel_log[\"ts\"])\n",
    "    return df"
   ]
  },
  {
   "cell_type": "code",
   "execution_count": null,
   "id": "f43d1294",
   "metadata": {},
   "outputs": [],
   "source": [
    "travel_data = load_data()\n",
    "stations_data= pd.read_csv('bases_bicimad.csv', sep=\";\")\n",
    "stations_data.rename(columns={'Longitud':'longitude','Latitud':'latitude'},inplace=True)\n",
    "\n"
   ]
  },
  {
   "cell_type": "code",
   "execution_count": null,
   "id": "27a7f5f5",
   "metadata": {},
   "outputs": [],
   "source": [
    "\n",
    "now = datetime.datetime.now()\n",
    "date=now.date()\n",
    "time=now.time()\n",
    "name_test='Puerta del Sol B'\n",
    "holiday=True\n",
    "\n",
    "\n",
    " #new_row need to be updated by information from the station\n",
    "    #number, light, total_bases, longitude, latitude, weather,\n",
    "\n",
    "# new_row={'activate':1, 'name':name, 'reservations_count':0, 'light':0, 'total_bases':30,\n",
    "#     'free_bases':28, 'number':'1b', 'longitude':-3.701603, 'no_available':0, 'address':'Puerta del Sol nº 1',\n",
    "#     'latitude':-3.701603, 'dock_bikes':0, 'id':(str(date)+'T'+str(time)), 'time':time, 'date':date, 'holidays':holiday, 'datetime':datetime,\n",
    "#     'feels_like':17.44, 'weather_main':'Rain', 'weekday':weekday, 'year':year, 'month':month, 'hour_sin':hour_sin,\n",
    "#     'hour_cos':hour_cos, 'weekday_sin':weekday_sin, 'weekday_cos':weekday_cos, 'month_sin':month_sin, 'month_cos':month_cos}\n",
    "\n",
    "#date_selected= st.sidebar.date_input('When do you want to take your bike', datetime.datetime.today())\n",
    "#time_selected= st.sidebar.time_input('At what time will you take your bike', now)\n",
    "\n",
    "station_selected ='ALCALA, CALLE, DE, 2'\n",
    "name=stations_data[stations_data['Direccion']==station_selected]\n",
    "\n",
    "\n"
   ]
  },
  {
   "cell_type": "code",
   "execution_count": null,
   "id": "824aedd3",
   "metadata": {},
   "outputs": [],
   "source": [
    "stations_data.head(5)"
   ]
  },
  {
   "cell_type": "code",
   "execution_count": null,
   "id": "409e64b6",
   "metadata": {},
   "outputs": [],
   "source": [
    "new_row={'activate':1, 'name':name, 'reservations_count':0, 'light':1, 'total_bases':total_bases,\n",
    "     'free_bases':28, 'number':number, 'longitude':longitude, 'no_available':0, 'address':'Puerta del Sol nº 1',\n",
    "     'latitude':latitude, 'dock_bikes':0, 'id':(str(date)+'T'+str(time)), 'time':time, 'date':date, 'holidays':'holiday', 'datetime':'datetime',\n",
    "     'feels_like':17.44, 'weather_main':'Rain', 'weekday':'weekday', 'year':'year', 'month':'month', 'hour_sin':'hour_sin',\n",
    "     'hour_cos':'hour_cos', 'weekday_sin':'weekday_sin', 'weekday_cos':'weekday_cos', 'month_sin':'month_sin', 'month_cos':'month_cos'}\n",
    "\n"
   ]
  },
  {
   "cell_type": "code",
   "execution_count": null,
   "id": "18a6b354",
   "metadata": {},
   "outputs": [],
   "source": [
    "now = datetime.datetime.now()\n",
    "date=now.date()\n",
    "time=now.time()\n",
    "name='Puerta del Sol B'"
   ]
  },
  {
   "cell_type": "code",
   "execution_count": null,
   "id": "da667d40",
   "metadata": {},
   "outputs": [],
   "source": [
    "name"
   ]
  },
  {
   "cell_type": "code",
   "execution_count": null,
   "id": "46d9dbba",
   "metadata": {},
   "outputs": [],
   "source": [
    "longitude=stations_data[stations_data['Direccion']==station_selected]['longitude'][0]\n",
    "\n",
    "latitude=stations_data[stations_data['Direccion']==station_selected]['latitude'][0]\n",
    "\n",
    "total_bases =stations_data[stations_data['Direccion']==station_selected]['Número de Plazas'][0]\n",
    "\n",
    "number=stations_data[stations_data['Direccion']==station_selected]['Número'][0]\n",
    "number=number.replace(\" \", \"\")\n",
    "while number[0]=='0':\n",
    "    number=number[1:]\n",
    "address=stations_data[stations_data['Direccion']==station_selected]['Direccion'][0]"
   ]
  },
  {
   "cell_type": "code",
   "execution_count": null,
   "id": "8536459f",
   "metadata": {},
   "outputs": [],
   "source": [
    "new_row={'activate':1, 'name':name, 'reservations_count':0, 'light':1, 'total_bases':total_bases,\n",
    "     'free_bases':(total_bases/2), 'number':number, 'longitude':longitude, 'no_available':0, 'address':address,\n",
    "     'latitude':latitude, 'dock_bikes':(total_bases/2), 'id':(str(date)+'T'+str(time)), 'time':time, 'date':date, 'holidays':'holiday', 'datetime':'datetime',\n",
    "     'feels_like':17.44, 'weather_main':'Rain', 'weekday':'weekday', 'year':'year', 'month':'month', 'hour_sin':'hour_sin',\n",
    "     'hour_cos':'hour_cos', 'weekday_sin':'weekday_sin', 'weekday_cos':'weekday_cos', 'month_sin':'month_sin', 'month_cos':'month_cos'}\n"
   ]
  },
  {
   "cell_type": "code",
   "execution_count": null,
   "id": "01f68e63",
   "metadata": {},
   "outputs": [],
   "source": [
    "new_row"
   ]
  },
  {
   "cell_type": "code",
   "execution_count": null,
   "id": "8a49e5e0",
   "metadata": {},
   "outputs": [],
   "source": [
    "list_stations=list(stations_data['Número'])"
   ]
  },
  {
   "cell_type": "code",
   "execution_count": null,
   "id": "582d71d9",
   "metadata": {},
   "outputs": [],
   "source": [
    "longitude=stations_data.loc[stations_data['Direccion']==station_selected]['longitude'].values[0]\n",
    "longitude"
   ]
  },
  {
   "cell_type": "code",
   "execution_count": 4,
   "id": "aae3a3b2",
   "metadata": {},
   "outputs": [
    {
     "ename": "NameError",
     "evalue": "name 'df' is not defined",
     "output_type": "error",
     "traceback": [
      "\u001b[0;31m---------------------------------------------------------------------------\u001b[0m",
      "\u001b[0;31mNameError\u001b[0m                                 Traceback (most recent call last)",
      "\u001b[0;32m/var/folders/hr/jf_0d1t95b98cmbwydqdzvzh0000gn/T/ipykernel_25414/2957368260.py\u001b[0m in \u001b[0;36m<module>\u001b[0;34m\u001b[0m\n\u001b[0;32m----> 1\u001b[0;31m \u001b[0mdf\u001b[0m\u001b[0;34m.\u001b[0m\u001b[0mloc\u001b[0m\u001b[0;34m[\u001b[0m\u001b[0mdf\u001b[0m\u001b[0;34m.\u001b[0m\u001b[0mteam\u001b[0m\u001b[0;34m==\u001b[0m\u001b[0;34m'Spurs'\u001b[0m\u001b[0;34m,\u001b[0m\u001b[0;34m'team'\u001b[0m\u001b[0;34m]\u001b[0m\u001b[0;34m.\u001b[0m\u001b[0mvalues\u001b[0m\u001b[0;34m[\u001b[0m\u001b[0;36m0\u001b[0m\u001b[0;34m]\u001b[0m\u001b[0;34m\u001b[0m\u001b[0;34m\u001b[0m\u001b[0m\n\u001b[0m",
      "\u001b[0;31mNameError\u001b[0m: name 'df' is not defined"
     ]
    }
   ],
   "source": [
    "df.loc[df.team=='Spurs','team'].values[0]"
   ]
  },
  {
   "cell_type": "code",
   "execution_count": 7,
   "id": "1f3fc87d",
   "metadata": {},
   "outputs": [],
   "source": [
    "import pandas as pd\n",
    "stations_data= pd.read_csv('bases_bicimad.csv', sep=\";\")\n",
    "stations_data.rename(columns={'Longitud':'longitude','Latitud':'latitude'},inplace=True)"
   ]
  },
  {
   "cell_type": "code",
   "execution_count": 41,
   "id": "66d4764a",
   "metadata": {},
   "outputs": [
    {
     "data": {
      "text/html": [
       "<div>\n",
       "<style scoped>\n",
       "    .dataframe tbody tr th:only-of-type {\n",
       "        vertical-align: middle;\n",
       "    }\n",
       "\n",
       "    .dataframe tbody tr th {\n",
       "        vertical-align: top;\n",
       "    }\n",
       "\n",
       "    .dataframe thead th {\n",
       "        text-align: right;\n",
       "    }\n",
       "</style>\n",
       "<table border=\"1\" class=\"dataframe\">\n",
       "  <thead>\n",
       "    <tr style=\"text-align: right;\">\n",
       "      <th></th>\n",
       "      <th>Número</th>\n",
       "      <th>Gis_X</th>\n",
       "      <th>Gis_Y</th>\n",
       "      <th>Fecha de Alta</th>\n",
       "      <th>Distrito</th>\n",
       "      <th>Barrio</th>\n",
       "      <th>Calle</th>\n",
       "      <th>Nº Finca</th>\n",
       "      <th>Tipo de Reserva</th>\n",
       "      <th>Número de Plazas</th>\n",
       "      <th>longitude</th>\n",
       "      <th>latitude</th>\n",
       "      <th>Direccion</th>\n",
       "    </tr>\n",
       "  </thead>\n",
       "  <tbody>\n",
       "    <tr>\n",
       "      <th>0</th>\n",
       "      <td>001 a</td>\n",
       "      <td>440443,61</td>\n",
       "      <td>4474290,65</td>\n",
       "      <td>43803</td>\n",
       "      <td>01  CENTRO</td>\n",
       "      <td>01-06 SOL</td>\n",
       "      <td>ALCALA, CALLE, DE</td>\n",
       "      <td>2</td>\n",
       "      <td>BiciMAD</td>\n",
       "      <td>30</td>\n",
       "      <td>-3.701998</td>\n",
       "      <td>40.417111</td>\n",
       "      <td>ALCALA, CALLE, DE, 2</td>\n",
       "    </tr>\n",
       "    <tr>\n",
       "      <th>1</th>\n",
       "      <td>001 b</td>\n",
       "      <td>440480,56</td>\n",
       "      <td>4474301,74</td>\n",
       "      <td>43867</td>\n",
       "      <td>01  CENTRO</td>\n",
       "      <td>01-06 SOL</td>\n",
       "      <td>ALCALA, CALLE, DE</td>\n",
       "      <td>6</td>\n",
       "      <td>BiciMAD</td>\n",
       "      <td>30</td>\n",
       "      <td>-3.701564</td>\n",
       "      <td>40.417213</td>\n",
       "      <td>ALCALA, CALLE, DE, 6</td>\n",
       "    </tr>\n",
       "    <tr>\n",
       "      <th>2</th>\n",
       "      <td>2</td>\n",
       "      <td>440134,83</td>\n",
       "      <td>4474678,23</td>\n",
       "      <td>41813</td>\n",
       "      <td>01  CENTRO</td>\n",
       "      <td>01-05 UNIVERSIDAD</td>\n",
       "      <td>MIGUEL MOYA, CALLE, DE</td>\n",
       "      <td>1</td>\n",
       "      <td>BiciMAD</td>\n",
       "      <td>24</td>\n",
       "      <td>-3.705674</td>\n",
       "      <td>40.420580</td>\n",
       "      <td>MIGUEL MOYA, CALLE, DE, 1</td>\n",
       "    </tr>\n",
       "    <tr>\n",
       "      <th>3</th>\n",
       "      <td>3</td>\n",
       "      <td>440012,98</td>\n",
       "      <td>4475760,68</td>\n",
       "      <td>41813</td>\n",
       "      <td>07  CHAMBERÍ</td>\n",
       "      <td>07-02 ARAPILES</td>\n",
       "      <td>CONDE DEL VALLE DE SUCHIL, PLAZA, DEL</td>\n",
       "      <td>2</td>\n",
       "      <td>BiciMAD</td>\n",
       "      <td>18</td>\n",
       "      <td>-3.707212</td>\n",
       "      <td>40.430322</td>\n",
       "      <td>CONDE DEL VALLE DE SUCHIL, PLAZA, DEL, 2</td>\n",
       "    </tr>\n",
       "    <tr>\n",
       "      <th>4</th>\n",
       "      <td>4</td>\n",
       "      <td>440396,4</td>\n",
       "      <td>4475565,36</td>\n",
       "      <td>41813</td>\n",
       "      <td>01  CENTRO</td>\n",
       "      <td>01-05 UNIVERSIDAD</td>\n",
       "      <td>MANUELA MALASAÑA, CALLE, DE</td>\n",
       "      <td>3</td>\n",
       "      <td>BiciMAD</td>\n",
       "      <td>24</td>\n",
       "      <td>-3.702674</td>\n",
       "      <td>40.428590</td>\n",
       "      <td>MANUELA MALASAÑA, CALLE, DE, 3</td>\n",
       "    </tr>\n",
       "  </tbody>\n",
       "</table>\n",
       "</div>"
      ],
      "text/plain": [
       "  Número      Gis_X       Gis_Y  Fecha de Alta      Distrito  \\\n",
       "0  001 a  440443,61  4474290,65          43803    01  CENTRO   \n",
       "1  001 b  440480,56  4474301,74          43867    01  CENTRO   \n",
       "2      2  440134,83  4474678,23          41813    01  CENTRO   \n",
       "3      3  440012,98  4475760,68          41813  07  CHAMBERÍ   \n",
       "4      4   440396,4  4475565,36          41813    01  CENTRO   \n",
       "\n",
       "              Barrio                                  Calle Nº Finca  \\\n",
       "0          01-06 SOL                      ALCALA, CALLE, DE        2   \n",
       "1          01-06 SOL                      ALCALA, CALLE, DE        6   \n",
       "2  01-05 UNIVERSIDAD                 MIGUEL MOYA, CALLE, DE        1   \n",
       "3     07-02 ARAPILES  CONDE DEL VALLE DE SUCHIL, PLAZA, DEL        2   \n",
       "4  01-05 UNIVERSIDAD            MANUELA MALASAÑA, CALLE, DE        3   \n",
       "\n",
       "  Tipo de Reserva  Número de Plazas  longitude   latitude  \\\n",
       "0         BiciMAD                30  -3.701998  40.417111   \n",
       "1         BiciMAD                30  -3.701564  40.417213   \n",
       "2         BiciMAD                24  -3.705674  40.420580   \n",
       "3         BiciMAD                18  -3.707212  40.430322   \n",
       "4         BiciMAD                24  -3.702674  40.428590   \n",
       "\n",
       "                                  Direccion  \n",
       "0                      ALCALA, CALLE, DE, 2  \n",
       "1                      ALCALA, CALLE, DE, 6  \n",
       "2                 MIGUEL MOYA, CALLE, DE, 1  \n",
       "3  CONDE DEL VALLE DE SUCHIL, PLAZA, DEL, 2  \n",
       "4            MANUELA MALASAÑA, CALLE, DE, 3  "
      ]
     },
     "execution_count": 41,
     "metadata": {},
     "output_type": "execute_result"
    }
   ],
   "source": [
    "stations_data.head()"
   ]
  },
  {
   "cell_type": "code",
   "execution_count": 38,
   "id": "e81254f8",
   "metadata": {},
   "outputs": [
    {
     "data": {
      "text/html": [
       "<div>\n",
       "<style scoped>\n",
       "    .dataframe tbody tr th:only-of-type {\n",
       "        vertical-align: middle;\n",
       "    }\n",
       "\n",
       "    .dataframe tbody tr th {\n",
       "        vertical-align: top;\n",
       "    }\n",
       "\n",
       "    .dataframe thead th {\n",
       "        text-align: right;\n",
       "    }\n",
       "</style>\n",
       "<table border=\"1\" class=\"dataframe\">\n",
       "  <thead>\n",
       "    <tr style=\"text-align: right;\">\n",
       "      <th></th>\n",
       "      <th>Número</th>\n",
       "      <th>Gis_X</th>\n",
       "      <th>Gis_Y</th>\n",
       "      <th>Fecha de Alta</th>\n",
       "      <th>Distrito</th>\n",
       "      <th>Barrio</th>\n",
       "      <th>Calle</th>\n",
       "      <th>Nº Finca</th>\n",
       "      <th>Tipo de Reserva</th>\n",
       "      <th>Número de Plazas</th>\n",
       "      <th>longitude</th>\n",
       "      <th>latitude</th>\n",
       "      <th>Direccion</th>\n",
       "    </tr>\n",
       "  </thead>\n",
       "  <tbody>\n",
       "    <tr>\n",
       "      <th>0</th>\n",
       "      <td>001 a</td>\n",
       "      <td>440443,61</td>\n",
       "      <td>4474290,65</td>\n",
       "      <td>43803</td>\n",
       "      <td>01  CENTRO</td>\n",
       "      <td>01-06 SOL</td>\n",
       "      <td>ALCALA, CALLE, DE</td>\n",
       "      <td>2</td>\n",
       "      <td>BiciMAD</td>\n",
       "      <td>30</td>\n",
       "      <td>-3.701998</td>\n",
       "      <td>40.417111</td>\n",
       "      <td>ALCALA, CALLE, DE, 2</td>\n",
       "    </tr>\n",
       "    <tr>\n",
       "      <th>1</th>\n",
       "      <td>001 b</td>\n",
       "      <td>440480,56</td>\n",
       "      <td>4474301,74</td>\n",
       "      <td>43867</td>\n",
       "      <td>01  CENTRO</td>\n",
       "      <td>01-06 SOL</td>\n",
       "      <td>ALCALA, CALLE, DE</td>\n",
       "      <td>6</td>\n",
       "      <td>BiciMAD</td>\n",
       "      <td>30</td>\n",
       "      <td>-3.701564</td>\n",
       "      <td>40.417213</td>\n",
       "      <td>ALCALA, CALLE, DE, 6</td>\n",
       "    </tr>\n",
       "    <tr>\n",
       "      <th>2</th>\n",
       "      <td>2</td>\n",
       "      <td>440134,83</td>\n",
       "      <td>4474678,23</td>\n",
       "      <td>41813</td>\n",
       "      <td>01  CENTRO</td>\n",
       "      <td>01-05 UNIVERSIDAD</td>\n",
       "      <td>MIGUEL MOYA, CALLE, DE</td>\n",
       "      <td>1</td>\n",
       "      <td>BiciMAD</td>\n",
       "      <td>24</td>\n",
       "      <td>-3.705674</td>\n",
       "      <td>40.420580</td>\n",
       "      <td>MIGUEL MOYA, CALLE, DE, 1</td>\n",
       "    </tr>\n",
       "    <tr>\n",
       "      <th>3</th>\n",
       "      <td>3</td>\n",
       "      <td>440012,98</td>\n",
       "      <td>4475760,68</td>\n",
       "      <td>41813</td>\n",
       "      <td>07  CHAMBERÍ</td>\n",
       "      <td>07-02 ARAPILES</td>\n",
       "      <td>CONDE DEL VALLE DE SUCHIL, PLAZA, DEL</td>\n",
       "      <td>2</td>\n",
       "      <td>BiciMAD</td>\n",
       "      <td>18</td>\n",
       "      <td>-3.707212</td>\n",
       "      <td>40.430322</td>\n",
       "      <td>CONDE DEL VALLE DE SUCHIL, PLAZA, DEL, 2</td>\n",
       "    </tr>\n",
       "    <tr>\n",
       "      <th>4</th>\n",
       "      <td>4</td>\n",
       "      <td>440396,4</td>\n",
       "      <td>4475565,36</td>\n",
       "      <td>41813</td>\n",
       "      <td>01  CENTRO</td>\n",
       "      <td>01-05 UNIVERSIDAD</td>\n",
       "      <td>MANUELA MALASAÑA, CALLE, DE</td>\n",
       "      <td>3</td>\n",
       "      <td>BiciMAD</td>\n",
       "      <td>24</td>\n",
       "      <td>-3.702674</td>\n",
       "      <td>40.428590</td>\n",
       "      <td>MANUELA MALASAÑA, CALLE, DE, 3</td>\n",
       "    </tr>\n",
       "  </tbody>\n",
       "</table>\n",
       "</div>"
      ],
      "text/plain": [
       "  Número      Gis_X       Gis_Y  Fecha de Alta      Distrito  \\\n",
       "0  001 a  440443,61  4474290,65          43803    01  CENTRO   \n",
       "1  001 b  440480,56  4474301,74          43867    01  CENTRO   \n",
       "2      2  440134,83  4474678,23          41813    01  CENTRO   \n",
       "3      3  440012,98  4475760,68          41813  07  CHAMBERÍ   \n",
       "4      4   440396,4  4475565,36          41813    01  CENTRO   \n",
       "\n",
       "              Barrio                                  Calle Nº Finca  \\\n",
       "0          01-06 SOL                      ALCALA, CALLE, DE        2   \n",
       "1          01-06 SOL                      ALCALA, CALLE, DE        6   \n",
       "2  01-05 UNIVERSIDAD                 MIGUEL MOYA, CALLE, DE        1   \n",
       "3     07-02 ARAPILES  CONDE DEL VALLE DE SUCHIL, PLAZA, DEL        2   \n",
       "4  01-05 UNIVERSIDAD            MANUELA MALASAÑA, CALLE, DE        3   \n",
       "\n",
       "  Tipo de Reserva  Número de Plazas  longitude   latitude  \\\n",
       "0         BiciMAD                30  -3.701998  40.417111   \n",
       "1         BiciMAD                30  -3.701564  40.417213   \n",
       "2         BiciMAD                24  -3.705674  40.420580   \n",
       "3         BiciMAD                18  -3.707212  40.430322   \n",
       "4         BiciMAD                24  -3.702674  40.428590   \n",
       "\n",
       "                                  Direccion  \n",
       "0                      ALCALA, CALLE, DE, 2  \n",
       "1                      ALCALA, CALLE, DE, 6  \n",
       "2                 MIGUEL MOYA, CALLE, DE, 1  \n",
       "3  CONDE DEL VALLE DE SUCHIL, PLAZA, DEL, 2  \n",
       "4            MANUELA MALASAÑA, CALLE, DE, 3  "
      ]
     },
     "execution_count": 38,
     "metadata": {},
     "output_type": "execute_result"
    }
   ],
   "source": [
    "stations_data.head()"
   ]
  },
  {
   "cell_type": "code",
   "execution_count": 21,
   "id": "8c7a6e06",
   "metadata": {},
   "outputs": [],
   "source": [
    "station_selected=stations_data['Direccion'][0]"
   ]
  },
  {
   "cell_type": "code",
   "execution_count": 22,
   "id": "bb85db98",
   "metadata": {},
   "outputs": [],
   "source": [
    "number=stations_data.loc[stations_data['Direccion']==station_selected]['Número'].values[0]\n",
    "number=number.replace(\" \", \"\")\n",
    "while number=='0':\n",
    "    number=number[1:]\n",
    "number_test=number"
   ]
  },
  {
   "cell_type": "code",
   "execution_count": 23,
   "id": "9f2d2aab",
   "metadata": {},
   "outputs": [
    {
     "data": {
      "text/plain": [
       "'001a'"
      ]
     },
     "execution_count": 23,
     "metadata": {},
     "output_type": "execute_result"
    }
   ],
   "source": [
    "number_test"
   ]
  },
  {
   "cell_type": "code",
   "execution_count": 36,
   "id": "7c5f4f31",
   "metadata": {},
   "outputs": [
    {
     "data": {
      "text/plain": [
       "pandas.core.series.Series"
      ]
     },
     "execution_count": 36,
     "metadata": {},
     "output_type": "execute_result"
    }
   ],
   "source": [
    "serie=stations_data['Direccion'].copy()\n",
    "type(serie)"
   ]
  },
  {
   "cell_type": "code",
   "execution_count": 37,
   "id": "2c01c5a2",
   "metadata": {},
   "outputs": [
    {
     "data": {
      "text/plain": [
       "164        ALBERTO ALCOCER, AVENIDA, DE, 22 A\n",
       "97                     ALCALA, CALLE, DE, 111\n",
       "0                        ALCALA, CALLE, DE, 2\n",
       "29                      ALCALA, CALLE, DE, 26\n",
       "20                      ALCALA, CALLE, DE, 49\n",
       "                        ...                  \n",
       "197                  VELAZQUEZ, CALLE, DE, 91\n",
       "14            VENTURA RODRIGUEZ, CALLE, DE, 1\n",
       "196    VIRGEN DE LA ALEGRIA, CALLE, DE LA, 18\n",
       "181                YESERIAS, PASEO, DE LAS, 8\n",
       "254                    ZURBANO, CALLE, DE, 90\n",
       "Name: Direccion, Length: 269, dtype: object"
      ]
     },
     "execution_count": 37,
     "metadata": {},
     "output_type": "execute_result"
    }
   ],
   "source": [
    "serie.sort_values(axis=0, ascending=True, inplace=True)\n",
    "serie"
   ]
  },
  {
   "cell_type": "code",
   "execution_count": 46,
   "id": "53a98f11",
   "metadata": {},
   "outputs": [
    {
     "data": {
      "text/plain": [
       "array(['01-01 PALACIO', '01-02 EMBAJADORES', '01-03 CORTES',\n",
       "       '01-04 JUSTICIA', '01-05 UNIVERSIDAD', '01-06 SOL',\n",
       "       '02-01 IMPERIAL', '02-02 ACACIAS', '02-03 CHOPERA',\n",
       "       '02-04 LEGAZPI', '02-05 DELICIAS', '02-06 PALOS DE MOGUER',\n",
       "       '02-07 ATOCHA', '03-01 PACÍFICO', '03-02 ADELFAS',\n",
       "       '03-03 ESTRELLA', '03-04 IBIZA', '03-05 JERÓNIMOS',\n",
       "       '03-06 NIÑO JESÚS', '04-01 RECOLETOS', '04-02 GOYA',\n",
       "       '04-03 FUENTE DEL BERRO', '04-04 GUINDALERA', '04-05 LISTA',\n",
       "       '04-06 CASTELLANA', '05-01 EL VISO', '05-02 PROSPERIDAD',\n",
       "       '05-03 CIUDAD JARDÍN', '05-04 HISPANOAMÉRICA',\n",
       "       '05-05 NUEVA ESPAÑA', '05-06 CASTILLA', '06-01 BELLAS VISTAS',\n",
       "       '06-02 CUATRO CAMINOS', '06-03 CASTILLEJOS', '06-05 VALDEACEDERAS',\n",
       "       '06-06 BERRUGUETE', '07-01 GAZTAMBIDE', '07-02 ARAPILES',\n",
       "       '07-03 TRAFALGAR', '07-04 ALMAGRO', '07-05 RÍOS ROSAS',\n",
       "       '07-06 VALLEHERMOSO', '08-05 LA PAZ', '09-01 CASA DE CAMPO',\n",
       "       '09-02 ARGÜELLES', '09-03 CIUDAD UNIVERSITARIA', '10-01 CÁRMENES',\n",
       "       '10-02 PUERTA DEL ÁNGEL', '11-01 COMILLA', '11-03 SAN ISIDRO',\n",
       "       '12-05 MOSCARDÓ', '13-02 SAN DIEGO', '13-06 NUMANCIA',\n",
       "       '14-01 PAVONES', '14-03 MARROQUINA', '14-04 MEDIA LEGUA',\n",
       "       '15-01 VENTAS', '15-02 PUEBLO NUEVO', '15-04 CONCEPCIÓN',\n",
       "       '15-05 SAN PASCUAL'], dtype=object)"
      ]
     },
     "execution_count": 46,
     "metadata": {},
     "output_type": "execute_result"
    }
   ],
   "source": [
    "import numpy\n",
    "numpy.sort(stations_data['Barrio'].unique())  "
   ]
  },
  {
   "cell_type": "code",
   "execution_count": null,
   "id": "23009303",
   "metadata": {},
   "outputs": [],
   "source": []
  }
 ],
 "metadata": {
  "kernelspec": {
   "display_name": "Python 3 (ipykernel)",
   "language": "python",
   "name": "python3"
  },
  "language_info": {
   "codemirror_mode": {
    "name": "ipython",
    "version": 3
   },
   "file_extension": ".py",
   "mimetype": "text/x-python",
   "name": "python",
   "nbconvert_exporter": "python",
   "pygments_lexer": "ipython3",
   "version": "3.8.12"
  },
  "toc": {
   "base_numbering": 1,
   "nav_menu": {},
   "number_sections": true,
   "sideBar": true,
   "skip_h1_title": false,
   "title_cell": "Table of Contents",
   "title_sidebar": "Contents",
   "toc_cell": false,
   "toc_position": {},
   "toc_section_display": true,
   "toc_window_display": false
  }
 },
 "nbformat": 4,
 "nbformat_minor": 5
}
