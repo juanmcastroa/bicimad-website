{
 "cells": [
  {
   "cell_type": "code",
   "execution_count": 24,
   "id": "5442de68",
   "metadata": {},
   "outputs": [],
   "source": [
    "import pandas as pd\n",
    "\n",
    "def load_data():\n",
    "    \"\"\" Load the cleaned data with latitudes, longitudes & timestamps \"\"\"\n",
    "    df = pd.read_csv(\"three_years_weather.csv\")\n",
    "    #df[\"datetime\"] = pd.to_datetime(df[\"datetime\"])\n",
    "    return df"
   ]
  },
  {
   "cell_type": "code",
   "execution_count": 25,
   "id": "8df195ab",
   "metadata": {},
   "outputs": [
    {
     "name": "stdout",
     "output_type": "stream",
     "text": [
      "/Users/juancastro/code/juanmcastroa/bicimad-website\r\n"
     ]
    }
   ],
   "source": [
    "!pwd"
   ]
  },
  {
   "cell_type": "code",
   "execution_count": 41,
   "id": "a4b3c238",
   "metadata": {},
   "outputs": [
    {
     "data": {
      "text/plain": [
       "(728, 30)"
      ]
     },
     "execution_count": 41,
     "metadata": {},
     "output_type": "execute_result"
    }
   ],
   "source": [
    "df = load_data()\n",
    "df.shape"
   ]
  },
  {
   "cell_type": "code",
   "execution_count": 27,
   "id": "97df49a9",
   "metadata": {},
   "outputs": [],
   "source": [
    "df.drop(columns=['Unnamed: 0','Unnamed: 0.1','datetime'],inplace=True)"
   ]
  },
  {
   "cell_type": "code",
   "execution_count": 28,
   "id": "ade32642",
   "metadata": {},
   "outputs": [
    {
     "data": {
      "text/plain": [
       "0      2018-09-30T23:42:38.647290\n",
       "1      2018-09-30T22:42:34.124619\n",
       "2      2018-09-30T21:42:33.535879\n",
       "3      2018-09-30T20:42:31.072733\n",
       "4      2018-09-30T19:42:30.092827\n",
       "                  ...            \n",
       "723    2018-09-01T04:21:15.984448\n",
       "724    2018-09-01T03:21:15.615273\n",
       "725    2018-09-01T02:21:13.962923\n",
       "726    2018-09-01T01:21:10.785734\n",
       "727    2018-09-01T00:21:08.052690\n",
       "Name: id, Length: 728, dtype: object"
      ]
     },
     "execution_count": 28,
     "metadata": {},
     "output_type": "execute_result"
    }
   ],
   "source": [
    "df['id']"
   ]
  },
  {
   "cell_type": "code",
   "execution_count": 29,
   "id": "1b25a7d0",
   "metadata": {},
   "outputs": [],
   "source": [
    "df['id']=df['id'].apply(lambda x: x.replace('T',' '))"
   ]
  },
  {
   "cell_type": "code",
   "execution_count": 30,
   "id": "04ac91f2",
   "metadata": {},
   "outputs": [],
   "source": [
    "df['id']=pd.to_datetime(df['id'], format='%Y-%m-%d %H:%M:%S', errors='ignore',exact=True)"
   ]
  },
  {
   "cell_type": "code",
   "execution_count": 31,
   "id": "539305b4",
   "metadata": {},
   "outputs": [],
   "source": [
    "#df['id'].dt.strftime['%Y-%m-%d %H:%M:%S']"
   ]
  },
  {
   "cell_type": "code",
   "execution_count": 32,
   "id": "229890ed",
   "metadata": {},
   "outputs": [
    {
     "data": {
      "text/plain": [
       "0     2018-09-30 23:42:38\n",
       "1     2018-09-30 22:42:34\n",
       "2     2018-09-30 21:42:33\n",
       "3     2018-09-30 20:42:31\n",
       "4     2018-09-30 19:42:30\n",
       "              ...        \n",
       "723   2018-09-01 04:21:15\n",
       "724   2018-09-01 03:21:15\n",
       "725   2018-09-01 02:21:13\n",
       "726   2018-09-01 01:21:10\n",
       "727   2018-09-01 00:21:08\n",
       "Name: id, Length: 728, dtype: datetime64[ns]"
      ]
     },
     "execution_count": 32,
     "metadata": {},
     "output_type": "execute_result"
    }
   ],
   "source": [
    "df['id'].astype('datetime64[s]')"
   ]
  },
  {
   "cell_type": "code",
   "execution_count": 33,
   "id": "a17d8748",
   "metadata": {},
   "outputs": [
    {
     "data": {
      "text/plain": [
       "Timestamp('2018-09-01 00:21:08.052690')"
      ]
     },
     "execution_count": 33,
     "metadata": {},
     "output_type": "execute_result"
    }
   ],
   "source": [
    "df['id'].min()"
   ]
  },
  {
   "cell_type": "code",
   "execution_count": 34,
   "id": "5140c3db",
   "metadata": {},
   "outputs": [
    {
     "data": {
      "text/plain": [
       "Timedelta('29 days 23:21:30.594600')"
      ]
     },
     "execution_count": 34,
     "metadata": {},
     "output_type": "execute_result"
    }
   ],
   "source": [
    "(df['id'].max()-df['id'].min())"
   ]
  },
  {
   "cell_type": "code",
   "execution_count": 42,
   "id": "eb714ef8",
   "metadata": {},
   "outputs": [
    {
     "data": {
      "text/plain": [
       "Index(['Unnamed: 0', 'activate', 'name', 'reservations_count', 'light',\n",
       "       'total_bases', 'free_bases', 'number', 'longitude', 'no_available',\n",
       "       'address', 'latitude', 'dock_bikes', 'id', 'time', 'date', 'holidays',\n",
       "       'datetime', 'Unnamed: 0.1', 'feels_like', 'weather_main', 'weekday',\n",
       "       'year', 'month', 'hour_sin', 'hour_cos', 'weekday_sin', 'weekday_cos',\n",
       "       'month_sin', 'month_cos'],\n",
       "      dtype='object')"
      ]
     },
     "execution_count": 42,
     "metadata": {},
     "output_type": "execute_result"
    }
   ],
   "source": [
    "df.columns"
   ]
  },
  {
   "cell_type": "code",
   "execution_count": 44,
   "id": "31bb2adb",
   "metadata": {},
   "outputs": [],
   "source": [
    "df2 = pd.read_csv('bases_bicimad.csv', sep=\";\")\n"
   ]
  },
  {
   "cell_type": "code",
   "execution_count": 46,
   "id": "439e5536",
   "metadata": {},
   "outputs": [],
   "source": [
    "df2.rename(columns={'Longitud':'longitude','Latitud':'latitude'},inplace=True)"
   ]
  },
  {
   "cell_type": "code",
   "execution_count": 48,
   "id": "aee8ff88",
   "metadata": {},
   "outputs": [
    {
     "data": {
      "text/plain": [
       "Número               object\n",
       "Gis_X                object\n",
       "Gis_Y                object\n",
       "Fecha de Alta         int64\n",
       "Distrito             object\n",
       "Barrio               object\n",
       "Calle                object\n",
       "Nº Finca             object\n",
       "Tipo de Reserva      object\n",
       "Número de Plazas      int64\n",
       "longitude           float64\n",
       "latitude            float64\n",
       "Direccion            object\n",
       "dtype: object"
      ]
     },
     "execution_count": 48,
     "metadata": {},
     "output_type": "execute_result"
    }
   ],
   "source": [
    "df2.dtypes"
   ]
  },
  {
   "cell_type": "code",
   "execution_count": null,
   "id": "19d7f3c7",
   "metadata": {},
   "outputs": [],
   "source": []
  }
 ],
 "metadata": {
  "kernelspec": {
   "display_name": "Python 3 (ipykernel)",
   "language": "python",
   "name": "python3"
  },
  "language_info": {
   "codemirror_mode": {
    "name": "ipython",
    "version": 3
   },
   "file_extension": ".py",
   "mimetype": "text/x-python",
   "name": "python",
   "nbconvert_exporter": "python",
   "pygments_lexer": "ipython3",
   "version": "3.8.12"
  },
  "toc": {
   "base_numbering": 1,
   "nav_menu": {},
   "number_sections": true,
   "sideBar": true,
   "skip_h1_title": false,
   "title_cell": "Table of Contents",
   "title_sidebar": "Contents",
   "toc_cell": false,
   "toc_position": {},
   "toc_section_display": true,
   "toc_window_display": false
  }
 },
 "nbformat": 4,
 "nbformat_minor": 5
}
